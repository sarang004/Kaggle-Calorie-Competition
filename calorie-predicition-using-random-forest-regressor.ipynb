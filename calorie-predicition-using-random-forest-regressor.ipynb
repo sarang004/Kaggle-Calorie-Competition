{
 "cells": [
  {
   "cell_type": "code",
   "execution_count": 1,
   "id": "dc062104",
   "metadata": {
    "_cell_guid": "28f387d3-97a6-4b7e-a24f-c522794688d9",
    "_uuid": "2a23292a-266e-4dbc-a368-15934aaddccd",
    "collapsed": false,
    "execution": {
     "iopub.execute_input": "2025-05-14T15:32:52.507490Z",
     "iopub.status.busy": "2025-05-14T15:32:52.507158Z",
     "iopub.status.idle": "2025-05-14T15:32:54.649364Z",
     "shell.execute_reply": "2025-05-14T15:32:54.648372Z"
    },
    "jupyter": {
     "outputs_hidden": false
    },
    "papermill": {
     "duration": 2.149717,
     "end_time": "2025-05-14T15:32:54.651048",
     "exception": false,
     "start_time": "2025-05-14T15:32:52.501331",
     "status": "completed"
    },
    "tags": []
   },
   "outputs": [
    {
     "name": "stdout",
     "output_type": "stream",
     "text": [
      "/kaggle/input/playground-series-s5e5/sample_submission.csv\n",
      "/kaggle/input/playground-series-s5e5/train.csv\n",
      "/kaggle/input/playground-series-s5e5/test.csv\n"
     ]
    }
   ],
   "source": [
    "# This Python 3 environment comes with many helpful analytics libraries installed\n",
    "# It is defined by the kaggle/python Docker image: https://github.com/kaggle/docker-python\n",
    "# For example, here's several helpful packages to load\n",
    "\n",
    "import numpy as np # linear algebra\n",
    "import pandas as pd # data processing, CSV file I/O (e.g. pd.read_csv)\n",
    "\n",
    "# Input data files are available in the read-only \"../input/\" directory\n",
    "# For example, running this (by clicking run or pressing Shift+Enter) will list all files under the input directory\n",
    "\n",
    "import os\n",
    "for dirname, _, filenames in os.walk('/kaggle/input'):\n",
    "    for filename in filenames:\n",
    "        print(os.path.join(dirname, filename))\n",
    "\n",
    "# You can write up to 20GB to the current directory (/kaggle/working/) that gets preserved as output when you create a version using \"Save & Run All\" \n",
    "# You can also write temporary files to /kaggle/temp/, but they won't be saved outside of the current session"
   ]
  },
  {
   "cell_type": "code",
   "execution_count": 2,
   "id": "bb3dff51",
   "metadata": {
    "_cell_guid": "450fc90a-e709-4e65-a679-b9e771cbd9a8",
    "_uuid": "d4f07227-5bc9-4286-9dd8-a422471ac424",
    "collapsed": false,
    "execution": {
     "iopub.execute_input": "2025-05-14T15:32:54.661247Z",
     "iopub.status.busy": "2025-05-14T15:32:54.660720Z",
     "iopub.status.idle": "2025-05-14T15:32:56.053817Z",
     "shell.execute_reply": "2025-05-14T15:32:56.052782Z"
    },
    "jupyter": {
     "outputs_hidden": false
    },
    "papermill": {
     "duration": 1.400942,
     "end_time": "2025-05-14T15:32:56.056263",
     "exception": false,
     "start_time": "2025-05-14T15:32:54.655321",
     "status": "completed"
    },
    "tags": []
   },
   "outputs": [],
   "source": [
    "train=pd.read_csv('/kaggle/input/playground-series-s5e5/train.csv')\n",
    "test=pd.read_csv('/kaggle/input/playground-series-s5e5/test.csv')"
   ]
  },
  {
   "cell_type": "code",
   "execution_count": 3,
   "id": "d43bb915",
   "metadata": {
    "_cell_guid": "3d45aeb0-f7df-4013-8ffd-d25c7efa0282",
    "_uuid": "b3dbc97a-2e98-4ced-99c5-6ac6d5a44224",
    "collapsed": false,
    "execution": {
     "iopub.execute_input": "2025-05-14T15:32:56.074486Z",
     "iopub.status.busy": "2025-05-14T15:32:56.072312Z",
     "iopub.status.idle": "2025-05-14T15:32:56.080744Z",
     "shell.execute_reply": "2025-05-14T15:32:56.079583Z"
    },
    "jupyter": {
     "outputs_hidden": false
    },
    "papermill": {
     "duration": 0.019417,
     "end_time": "2025-05-14T15:32:56.082868",
     "exception": false,
     "start_time": "2025-05-14T15:32:56.063451",
     "status": "completed"
    },
    "tags": []
   },
   "outputs": [
    {
     "name": "stdout",
     "output_type": "stream",
     "text": [
      "(750000, 9)\n",
      "(250000, 8)\n"
     ]
    }
   ],
   "source": [
    "print(train.shape)\n",
    "print(test.shape)"
   ]
  },
  {
   "cell_type": "code",
   "execution_count": 4,
   "id": "e228ce12",
   "metadata": {
    "_cell_guid": "e621b95e-fe61-451e-9a7c-9e3847f1f08a",
    "_uuid": "5ff4405e-65a0-4b3f-a40f-654bd7599b0a",
    "collapsed": false,
    "execution": {
     "iopub.execute_input": "2025-05-14T15:32:56.093422Z",
     "iopub.status.busy": "2025-05-14T15:32:56.093094Z",
     "iopub.status.idle": "2025-05-14T15:32:56.102229Z",
     "shell.execute_reply": "2025-05-14T15:32:56.101168Z"
    },
    "jupyter": {
     "outputs_hidden": false
    },
    "papermill": {
     "duration": 0.016275,
     "end_time": "2025-05-14T15:32:56.103912",
     "exception": false,
     "start_time": "2025-05-14T15:32:56.087637",
     "status": "completed"
    },
    "tags": []
   },
   "outputs": [
    {
     "data": {
      "text/plain": [
       "Index(['id', 'Sex', 'Age', 'Height', 'Weight', 'Duration', 'Heart_Rate',\n",
       "       'Body_Temp', 'Calories'],\n",
       "      dtype='object')"
      ]
     },
     "execution_count": 4,
     "metadata": {},
     "output_type": "execute_result"
    }
   ],
   "source": [
    "train.columns"
   ]
  },
  {
   "cell_type": "code",
   "execution_count": 5,
   "id": "e46e6b7a",
   "metadata": {
    "_cell_guid": "ac687bd9-9440-4221-94e9-8c0d51a749ec",
    "_uuid": "9cbf4718-5aa7-468b-b8a0-da1fd17b3da5",
    "collapsed": false,
    "execution": {
     "iopub.execute_input": "2025-05-14T15:32:56.113485Z",
     "iopub.status.busy": "2025-05-14T15:32:56.113182Z",
     "iopub.status.idle": "2025-05-14T15:32:56.565707Z",
     "shell.execute_reply": "2025-05-14T15:32:56.564203Z"
    },
    "jupyter": {
     "outputs_hidden": false
    },
    "papermill": {
     "duration": 0.459485,
     "end_time": "2025-05-14T15:32:56.567761",
     "exception": false,
     "start_time": "2025-05-14T15:32:56.108276",
     "status": "completed"
    },
    "tags": []
   },
   "outputs": [
    {
     "name": "stdout",
     "output_type": "stream",
     "text": [
      "id            0\n",
      "Sex           0\n",
      "Age           0\n",
      "Height        0\n",
      "Weight        0\n",
      "Duration      0\n",
      "Heart_Rate    0\n",
      "Body_Temp     0\n",
      "Calories      0\n",
      "dtype: int64\n",
      "                  id            Age         Height         Weight  \\\n",
      "count  750000.000000  750000.000000  750000.000000  750000.000000   \n",
      "mean   374999.500000      41.420404     174.697685      75.145668   \n",
      "std    216506.495284      15.175049      12.824496      13.982704   \n",
      "min         0.000000      20.000000     126.000000      36.000000   \n",
      "25%    187499.750000      28.000000     164.000000      63.000000   \n",
      "50%    374999.500000      40.000000     174.000000      74.000000   \n",
      "75%    562499.250000      52.000000     185.000000      87.000000   \n",
      "max    749999.000000      79.000000     222.000000     132.000000   \n",
      "\n",
      "            Duration     Heart_Rate      Body_Temp       Calories  \n",
      "count  750000.000000  750000.000000  750000.000000  750000.000000  \n",
      "mean       15.421015      95.483995      40.036253      88.282781  \n",
      "std         8.354095       9.449845       0.779875      62.395349  \n",
      "min         1.000000      67.000000      37.100000       1.000000  \n",
      "25%         8.000000      88.000000      39.600000      34.000000  \n",
      "50%        15.000000      95.000000      40.300000      77.000000  \n",
      "75%        23.000000     103.000000      40.700000     136.000000  \n",
      "max        30.000000     128.000000      41.500000     314.000000  \n",
      "<class 'pandas.core.frame.DataFrame'>\n",
      "RangeIndex: 750000 entries, 0 to 749999\n",
      "Data columns (total 9 columns):\n",
      " #   Column      Non-Null Count   Dtype  \n",
      "---  ------      --------------   -----  \n",
      " 0   id          750000 non-null  int64  \n",
      " 1   Sex         750000 non-null  object \n",
      " 2   Age         750000 non-null  int64  \n",
      " 3   Height      750000 non-null  float64\n",
      " 4   Weight      750000 non-null  float64\n",
      " 5   Duration    750000 non-null  float64\n",
      " 6   Heart_Rate  750000 non-null  float64\n",
      " 7   Body_Temp   750000 non-null  float64\n",
      " 8   Calories    750000 non-null  float64\n",
      "dtypes: float64(6), int64(2), object(1)\n",
      "memory usage: 51.5+ MB\n",
      "None\n"
     ]
    }
   ],
   "source": [
    "print(train.isnull().sum())\n",
    "print(train.describe())\n",
    "print(train.info())"
   ]
  },
  {
   "cell_type": "code",
   "execution_count": 6,
   "id": "9684ad34",
   "metadata": {
    "_cell_guid": "1c0495e0-5c7e-412a-96ad-78070fdf35d7",
    "_uuid": "602a47bd-6754-403d-8d13-959a0b37a605",
    "collapsed": false,
    "execution": {
     "iopub.execute_input": "2025-05-14T15:32:56.583680Z",
     "iopub.status.busy": "2025-05-14T15:32:56.583333Z",
     "iopub.status.idle": "2025-05-14T15:32:56.721313Z",
     "shell.execute_reply": "2025-05-14T15:32:56.719819Z"
    },
    "jupyter": {
     "outputs_hidden": false
    },
    "papermill": {
     "duration": 0.147494,
     "end_time": "2025-05-14T15:32:56.722949",
     "exception": false,
     "start_time": "2025-05-14T15:32:56.575455",
     "status": "completed"
    },
    "tags": []
   },
   "outputs": [
    {
     "name": "stdout",
     "output_type": "stream",
     "text": [
      "id            0\n",
      "Sex           0\n",
      "Age           0\n",
      "Height        0\n",
      "Weight        0\n",
      "Duration      0\n",
      "Heart_Rate    0\n",
      "Body_Temp     0\n",
      "dtype: int64\n",
      "                  id            Age         Height         Weight  \\\n",
      "count  250000.000000  250000.000000  250000.000000  250000.000000   \n",
      "mean   874999.500000      41.452464     174.725624      75.147712   \n",
      "std     72168.927986      15.177769      12.822039      13.979513   \n",
      "min    750000.000000      20.000000     127.000000      39.000000   \n",
      "25%    812499.750000      28.000000     164.000000      63.000000   \n",
      "50%    874999.500000      40.000000     174.000000      74.000000   \n",
      "75%    937499.250000      52.000000     185.000000      87.000000   \n",
      "max    999999.000000      79.000000     219.000000     126.000000   \n",
      "\n",
      "            Duration     Heart_Rate      Body_Temp  \n",
      "count  250000.000000  250000.000000  250000.000000  \n",
      "mean       15.415428      95.479084      40.036093  \n",
      "std         8.349133       9.450161       0.778448  \n",
      "min         1.000000      67.000000      37.100000  \n",
      "25%         8.000000      88.000000      39.600000  \n",
      "50%        15.000000      95.000000      40.300000  \n",
      "75%        23.000000     103.000000      40.600000  \n",
      "max        30.000000     128.000000      41.500000  \n",
      "<class 'pandas.core.frame.DataFrame'>\n",
      "RangeIndex: 250000 entries, 0 to 249999\n",
      "Data columns (total 8 columns):\n",
      " #   Column      Non-Null Count   Dtype  \n",
      "---  ------      --------------   -----  \n",
      " 0   id          250000 non-null  int64  \n",
      " 1   Sex         250000 non-null  object \n",
      " 2   Age         250000 non-null  int64  \n",
      " 3   Height      250000 non-null  float64\n",
      " 4   Weight      250000 non-null  float64\n",
      " 5   Duration    250000 non-null  float64\n",
      " 6   Heart_Rate  250000 non-null  float64\n",
      " 7   Body_Temp   250000 non-null  float64\n",
      "dtypes: float64(5), int64(2), object(1)\n",
      "memory usage: 15.3+ MB\n",
      "None\n"
     ]
    }
   ],
   "source": [
    "print(test.isnull().sum())\n",
    "print(test.describe())\n",
    "print(test.info())"
   ]
  },
  {
   "cell_type": "code",
   "execution_count": 7,
   "id": "da2fa0f2",
   "metadata": {
    "_cell_guid": "daa8fb86-02d8-4eda-8f73-562a2af09c70",
    "_uuid": "8f3a8fe3-8ce3-495c-9e80-f7ae0e6ad258",
    "collapsed": false,
    "execution": {
     "iopub.execute_input": "2025-05-14T15:32:56.734322Z",
     "iopub.status.busy": "2025-05-14T15:32:56.734011Z",
     "iopub.status.idle": "2025-05-14T15:32:58.552623Z",
     "shell.execute_reply": "2025-05-14T15:32:58.551286Z"
    },
    "jupyter": {
     "outputs_hidden": false
    },
    "papermill": {
     "duration": 1.825953,
     "end_time": "2025-05-14T15:32:58.554726",
     "exception": false,
     "start_time": "2025-05-14T15:32:56.728773",
     "status": "completed"
    },
    "tags": []
   },
   "outputs": [],
   "source": [
    "from sklearn.preprocessing import LabelEncoder,StandardScaler\n",
    "le=LabelEncoder()\n",
    "sc=StandardScaler()"
   ]
  },
  {
   "cell_type": "code",
   "execution_count": 8,
   "id": "f1a1df32",
   "metadata": {
    "_cell_guid": "b0cd87e1-9d76-494f-a9b1-5460fb1dd196",
    "_uuid": "e5bad2d2-a4a5-42f8-bf25-cf16a5a68fac",
    "collapsed": false,
    "execution": {
     "iopub.execute_input": "2025-05-14T15:32:58.566332Z",
     "iopub.status.busy": "2025-05-14T15:32:58.565455Z",
     "iopub.status.idle": "2025-05-14T15:32:58.755978Z",
     "shell.execute_reply": "2025-05-14T15:32:58.754974Z"
    },
    "jupyter": {
     "outputs_hidden": false
    },
    "papermill": {
     "duration": 0.199097,
     "end_time": "2025-05-14T15:32:58.758831",
     "exception": false,
     "start_time": "2025-05-14T15:32:58.559734",
     "status": "completed"
    },
    "tags": []
   },
   "outputs": [],
   "source": [
    "train['Sex']=le.fit_transform(train['Sex'])\n",
    "test['Sex']=le.transform(test['Sex'])"
   ]
  },
  {
   "cell_type": "code",
   "execution_count": 9,
   "id": "fff66c42",
   "metadata": {
    "_cell_guid": "e7b1068e-db0d-4aa7-95df-bbd78bc9b9fa",
    "_uuid": "9524be4d-ef86-4bf5-bfdd-de493225240d",
    "collapsed": false,
    "execution": {
     "iopub.execute_input": "2025-05-14T15:32:58.771222Z",
     "iopub.status.busy": "2025-05-14T15:32:58.770596Z",
     "iopub.status.idle": "2025-05-14T15:32:59.094675Z",
     "shell.execute_reply": "2025-05-14T15:32:59.093671Z"
    },
    "jupyter": {
     "outputs_hidden": false
    },
    "papermill": {
     "duration": 0.332787,
     "end_time": "2025-05-14T15:32:59.097162",
     "exception": false,
     "start_time": "2025-05-14T15:32:58.764375",
     "status": "completed"
    },
    "tags": []
   },
   "outputs": [],
   "source": [
    "features = ['Sex', 'Age', 'Height', 'Weight', 'Duration', 'Heart_Rate', 'Body_Temp']\n",
    "X=train[features]\n",
    "y=train['Calories']\n",
    "X_test=test[features]\n",
    "X_scaled=sc.fit_transform(train[features])\n",
    "X_test_scaled=sc.transform(test[features])"
   ]
  },
  {
   "cell_type": "code",
   "execution_count": 10,
   "id": "c818288d",
   "metadata": {
    "_cell_guid": "980d5706-7274-4c0a-939d-5062249a1aeb",
    "_uuid": "26d2e1fe-c5e5-4fd3-85f2-4888484c9160",
    "collapsed": false,
    "execution": {
     "iopub.execute_input": "2025-05-14T15:32:59.109515Z",
     "iopub.status.busy": "2025-05-14T15:32:59.109094Z",
     "iopub.status.idle": "2025-05-14T15:32:59.715659Z",
     "shell.execute_reply": "2025-05-14T15:32:59.714712Z"
    },
    "jupyter": {
     "outputs_hidden": false
    },
    "papermill": {
     "duration": 0.614805,
     "end_time": "2025-05-14T15:32:59.717681",
     "exception": false,
     "start_time": "2025-05-14T15:32:59.102876",
     "status": "completed"
    },
    "tags": []
   },
   "outputs": [],
   "source": [
    "from sklearn.ensemble import RandomForestRegressor\n",
    "from sklearn.model_selection import GridSearchCV,RandomizedSearchCV,KFold\n",
    "from sklearn.metrics import mean_squared_log_error"
   ]
  },
  {
   "cell_type": "code",
   "execution_count": 11,
   "id": "df476f67",
   "metadata": {
    "execution": {
     "iopub.execute_input": "2025-05-14T15:32:59.727589Z",
     "iopub.status.busy": "2025-05-14T15:32:59.727249Z",
     "iopub.status.idle": "2025-05-14T15:32:59.732118Z",
     "shell.execute_reply": "2025-05-14T15:32:59.731272Z"
    },
    "papermill": {
     "duration": 0.012179,
     "end_time": "2025-05-14T15:32:59.734281",
     "exception": false,
     "start_time": "2025-05-14T15:32:59.722102",
     "status": "completed"
    },
    "tags": []
   },
   "outputs": [],
   "source": [
    "params = {\n",
    "    'n_estimators': [50, 100, 150],\n",
    "    'max_depth': [10, 20, None],\n",
    "    'min_samples_split': [2, 5],\n",
    "    'min_samples_leaf': [1, 2],\n",
    "    'max_features': ['sqrt', 'log2'],\n",
    "    'n_jobs': [-1]}"
   ]
  },
  {
   "cell_type": "code",
   "execution_count": 12,
   "id": "4ac92b87",
   "metadata": {
    "execution": {
     "iopub.execute_input": "2025-05-14T15:32:59.744933Z",
     "iopub.status.busy": "2025-05-14T15:32:59.744585Z",
     "iopub.status.idle": "2025-05-14T15:32:59.749365Z",
     "shell.execute_reply": "2025-05-14T15:32:59.748409Z"
    },
    "papermill": {
     "duration": 0.011574,
     "end_time": "2025-05-14T15:32:59.750877",
     "exception": false,
     "start_time": "2025-05-14T15:32:59.739303",
     "status": "completed"
    },
    "tags": []
   },
   "outputs": [],
   "source": [
    "search=RandomizedSearchCV(RandomForestRegressor(), param_distributions=params,  \n",
    "                         random_state=42 , n_jobs=-1)"
   ]
  },
  {
   "cell_type": "code",
   "execution_count": 13,
   "id": "437c9497",
   "metadata": {
    "execution": {
     "iopub.execute_input": "2025-05-14T15:32:59.760573Z",
     "iopub.status.busy": "2025-05-14T15:32:59.760277Z",
     "iopub.status.idle": "2025-05-14T15:33:35.221235Z",
     "shell.execute_reply": "2025-05-14T15:33:35.220159Z"
    },
    "papermill": {
     "duration": 35.471983,
     "end_time": "2025-05-14T15:33:35.227263",
     "exception": false,
     "start_time": "2025-05-14T15:32:59.755280",
     "status": "completed"
    },
    "tags": []
   },
   "outputs": [
    {
     "name": "stdout",
     "output_type": "stream",
     "text": [
      "{'n_jobs': -1, 'n_estimators': 150, 'min_samples_split': 2, 'min_samples_leaf': 1, 'max_features': 'log2', 'max_depth': None}\n"
     ]
    }
   ],
   "source": [
    "search.fit(X.iloc[:20000],y.iloc[:20000].values.ravel())\n",
    "best_params = search.best_params_\n",
    "print(best_params)"
   ]
  },
  {
   "cell_type": "code",
   "execution_count": 14,
   "id": "0f3725e0",
   "metadata": {
    "execution": {
     "iopub.execute_input": "2025-05-14T15:33:35.237307Z",
     "iopub.status.busy": "2025-05-14T15:33:35.236919Z",
     "iopub.status.idle": "2025-05-14T15:33:35.242688Z",
     "shell.execute_reply": "2025-05-14T15:33:35.241847Z"
    },
    "papermill": {
     "duration": 0.012521,
     "end_time": "2025-05-14T15:33:35.244084",
     "exception": false,
     "start_time": "2025-05-14T15:33:35.231563",
     "status": "completed"
    },
    "tags": []
   },
   "outputs": [],
   "source": [
    "FOLDS = 5\n",
    "kf = KFold(n_splits=FOLDS, shuffle=True, random_state=42)\n",
    "\n",
    "oof_preds_rf = np.zeros(len(train))\n",
    "test_preds_rf = np.zeros(len(test))\n",
    "\n",
    "rf_params = {**best_params}\n"
   ]
  },
  {
   "cell_type": "code",
   "execution_count": 15,
   "id": "74204b4a",
   "metadata": {
    "execution": {
     "iopub.execute_input": "2025-05-14T15:33:35.254574Z",
     "iopub.status.busy": "2025-05-14T15:33:35.254248Z",
     "iopub.status.idle": "2025-05-14T15:40:29.682616Z",
     "shell.execute_reply": "2025-05-14T15:40:29.681538Z"
    },
    "papermill": {
     "duration": 414.440529,
     "end_time": "2025-05-14T15:40:29.689094",
     "exception": false,
     "start_time": "2025-05-14T15:33:35.248565",
     "status": "completed"
    },
    "tags": []
   },
   "outputs": [
    {
     "name": "stdout",
     "output_type": "stream",
     "text": [
      "### Fold 1 is processing...###\n",
      "Fold 1 is processed!\n",
      "\n",
      "### Fold 2 is processing...###\n",
      "Fold 2 is processed!\n",
      "\n",
      "### Fold 3 is processing...###\n",
      "Fold 3 is processed!\n",
      "\n",
      "### Fold 4 is processing...###\n",
      "Fold 4 is processed!\n",
      "\n",
      "### Fold 5 is processing...###\n",
      "Fold 5 is processed!\n",
      "\n"
     ]
    }
   ],
   "source": [
    "for fold, (train_idx, valid_idx) in enumerate(kf.split(X)):\n",
    "    print(f\"### Fold {fold+1} is processing...###\")\n",
    "\n",
    "    X_train, y_train = X.iloc[train_idx], y.iloc[train_idx].values.ravel()\n",
    "    X_valid, y_valid = X.iloc[valid_idx], y.iloc[valid_idx].values.ravel()\n",
    "    X_test = test[features]\n",
    "\n",
    "    model=RandomForestRegressor(**rf_params)\n",
    "    model.fit(X_train,y_train)\n",
    "    oof_preds_rf[valid_idx] = model.predict(X_valid)\n",
    "    test_preds_rf += model.predict(X_test) / FOLDS\n",
    "    print(f\"Fold {fold+1} is processed!\\n\")\n",
    "    \n",
    "rmsle = np.sqrt(mean_squared_log_error(y, oof_preds_rf))"
   ]
  },
  {
   "cell_type": "code",
   "execution_count": 16,
   "id": "b7820943",
   "metadata": {
    "_cell_guid": "b0bd3809-2c0d-4d29-9497-c6c29df8c26f",
    "_uuid": "44e6d49c-9e5f-4ac9-971e-878794d32b29",
    "collapsed": false,
    "execution": {
     "iopub.execute_input": "2025-05-14T15:40:29.700077Z",
     "iopub.status.busy": "2025-05-14T15:40:29.699784Z",
     "iopub.status.idle": "2025-05-14T15:40:29.705536Z",
     "shell.execute_reply": "2025-05-14T15:40:29.704691Z"
    },
    "jupyter": {
     "outputs_hidden": false
    },
    "papermill": {
     "duration": 0.01293,
     "end_time": "2025-05-14T15:40:29.707004",
     "exception": false,
     "start_time": "2025-05-14T15:40:29.694074",
     "status": "completed"
    },
    "tags": []
   },
   "outputs": [
    {
     "data": {
      "text/plain": [
       "0.06326410100573124"
      ]
     },
     "execution_count": 16,
     "metadata": {},
     "output_type": "execute_result"
    }
   ],
   "source": [
    "rmsle"
   ]
  },
  {
   "cell_type": "code",
   "execution_count": 17,
   "id": "c967ec02",
   "metadata": {
    "_cell_guid": "674b935e-0752-49fe-8860-162a908249fc",
    "_uuid": "47cd6f27-c335-44ee-b75d-ff062c6ca019",
    "collapsed": false,
    "execution": {
     "iopub.execute_input": "2025-05-14T15:40:29.717955Z",
     "iopub.status.busy": "2025-05-14T15:40:29.717587Z",
     "iopub.status.idle": "2025-05-14T15:40:30.359122Z",
     "shell.execute_reply": "2025-05-14T15:40:30.358120Z"
    },
    "jupyter": {
     "outputs_hidden": false
    },
    "papermill": {
     "duration": 0.649021,
     "end_time": "2025-05-14T15:40:30.360928",
     "exception": false,
     "start_time": "2025-05-14T15:40:29.711907",
     "status": "completed"
    },
    "tags": []
   },
   "outputs": [],
   "source": [
    "sub = pd.read_csv('/kaggle/input/playground-series-s5e5/sample_submission.csv')\n",
    "sub[\"Calories\"] = test_preds_rf\n",
    "sub.to_csv(\"submission.csv\", index=False)"
   ]
  }
 ],
 "metadata": {
  "kaggle": {
   "accelerator": "none",
   "dataSources": [
    {
     "databundleVersionId": 11893428,
     "sourceId": 91716,
     "sourceType": "competition"
    }
   ],
   "dockerImageVersionId": 31040,
   "isGpuEnabled": false,
   "isInternetEnabled": true,
   "language": "python",
   "sourceType": "notebook"
  },
  "kernelspec": {
   "display_name": "Python 3",
   "language": "python",
   "name": "python3"
  },
  "language_info": {
   "codemirror_mode": {
    "name": "ipython",
    "version": 3
   },
   "file_extension": ".py",
   "mimetype": "text/x-python",
   "name": "python",
   "nbconvert_exporter": "python",
   "pygments_lexer": "ipython3",
   "version": "3.11.11"
  },
  "papermill": {
   "default_parameters": {},
   "duration": 466.35781,
   "end_time": "2025-05-14T15:40:33.490354",
   "environment_variables": {},
   "exception": null,
   "input_path": "__notebook__.ipynb",
   "output_path": "__notebook__.ipynb",
   "parameters": {},
   "start_time": "2025-05-14T15:32:47.132544",
   "version": "2.6.0"
  }
 },
 "nbformat": 4,
 "nbformat_minor": 5
}
