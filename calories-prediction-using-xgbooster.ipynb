{
 "cells": [
  {
   "cell_type": "code",
   "execution_count": 1,
   "id": "ebbc2c7f",
   "metadata": {
    "_cell_guid": "b1076dfc-b9ad-4769-8c92-a6c4dae69d19",
    "_uuid": "8f2839f25d086af736a60e9eeb907d3b93b6e0e5",
    "execution": {
     "iopub.execute_input": "2025-05-12T14:56:21.955281Z",
     "iopub.status.busy": "2025-05-12T14:56:21.954869Z",
     "iopub.status.idle": "2025-05-12T14:56:23.948837Z",
     "shell.execute_reply": "2025-05-12T14:56:23.947621Z"
    },
    "papermill": {
     "duration": 2.000884,
     "end_time": "2025-05-12T14:56:23.950531",
     "exception": false,
     "start_time": "2025-05-12T14:56:21.949647",
     "status": "completed"
    },
    "tags": []
   },
   "outputs": [
    {
     "name": "stdout",
     "output_type": "stream",
     "text": [
      "/kaggle/input/playground-series-s5e5/sample_submission.csv\n",
      "/kaggle/input/playground-series-s5e5/train.csv\n",
      "/kaggle/input/playground-series-s5e5/test.csv\n"
     ]
    }
   ],
   "source": [
    "# This Python 3 environment comes with many helpful analytics libraries installed\n",
    "# It is defined by the kaggle/python Docker image: https://github.com/kaggle/docker-python\n",
    "# For example, here's several helpful packages to load\n",
    "\n",
    "import numpy as np # linear algebra\n",
    "import pandas as pd # data processing, CSV file I/O (e.g. pd.read_csv)\n",
    "\n",
    "# Input data files are available in the read-only \"../input/\" directory\n",
    "# For example, running this (by clicking run or pressing Shift+Enter) will list all files under the input directory\n",
    "\n",
    "import os\n",
    "for dirname, _, filenames in os.walk('/kaggle/input'):\n",
    "    for filename in filenames:\n",
    "        print(os.path.join(dirname, filename))\n",
    "\n",
    "# You can write up to 20GB to the current directory (/kaggle/working/) that gets preserved as output when you create a version using \"Save & Run All\" \n",
    "# You can also write temporary files to /kaggle/temp/, but they won't be saved outside of the current session"
   ]
  },
  {
   "cell_type": "code",
   "execution_count": 2,
   "id": "c5f99253",
   "metadata": {
    "execution": {
     "iopub.execute_input": "2025-05-12T14:56:23.959117Z",
     "iopub.status.busy": "2025-05-12T14:56:23.958669Z",
     "iopub.status.idle": "2025-05-12T14:56:25.230864Z",
     "shell.execute_reply": "2025-05-12T14:56:25.229901Z"
    },
    "papermill": {
     "duration": 1.278587,
     "end_time": "2025-05-12T14:56:25.232721",
     "exception": false,
     "start_time": "2025-05-12T14:56:23.954134",
     "status": "completed"
    },
    "tags": []
   },
   "outputs": [],
   "source": [
    "import numpy as np\n",
    "import pandas as pd\n",
    "train=pd.read_csv('/kaggle/input/playground-series-s5e5/train.csv')\n",
    "sample=pd.read_csv('/kaggle/input/playground-series-s5e5/sample_submission.csv')\n",
    "test=pd.read_csv('/kaggle/input/playground-series-s5e5/test.csv')"
   ]
  },
  {
   "cell_type": "code",
   "execution_count": 3,
   "id": "b64fd850",
   "metadata": {
    "execution": {
     "iopub.execute_input": "2025-05-12T14:56:25.240894Z",
     "iopub.status.busy": "2025-05-12T14:56:25.240538Z",
     "iopub.status.idle": "2025-05-12T14:56:25.272616Z",
     "shell.execute_reply": "2025-05-12T14:56:25.271483Z"
    },
    "papermill": {
     "duration": 0.037959,
     "end_time": "2025-05-12T14:56:25.274252",
     "exception": false,
     "start_time": "2025-05-12T14:56:25.236293",
     "status": "completed"
    },
    "tags": []
   },
   "outputs": [
    {
     "name": "stdout",
     "output_type": "stream",
     "text": [
      "(250000, 8)\n",
      "(750000, 9)\n"
     ]
    },
    {
     "data": {
      "text/html": [
       "<div>\n",
       "<style scoped>\n",
       "    .dataframe tbody tr th:only-of-type {\n",
       "        vertical-align: middle;\n",
       "    }\n",
       "\n",
       "    .dataframe tbody tr th {\n",
       "        vertical-align: top;\n",
       "    }\n",
       "\n",
       "    .dataframe thead th {\n",
       "        text-align: right;\n",
       "    }\n",
       "</style>\n",
       "<table border=\"1\" class=\"dataframe\">\n",
       "  <thead>\n",
       "    <tr style=\"text-align: right;\">\n",
       "      <th></th>\n",
       "      <th>id</th>\n",
       "      <th>Sex</th>\n",
       "      <th>Age</th>\n",
       "      <th>Height</th>\n",
       "      <th>Weight</th>\n",
       "      <th>Duration</th>\n",
       "      <th>Heart_Rate</th>\n",
       "      <th>Body_Temp</th>\n",
       "      <th>Calories</th>\n",
       "    </tr>\n",
       "  </thead>\n",
       "  <tbody>\n",
       "    <tr>\n",
       "      <th>0</th>\n",
       "      <td>0</td>\n",
       "      <td>male</td>\n",
       "      <td>36</td>\n",
       "      <td>189.0</td>\n",
       "      <td>82.0</td>\n",
       "      <td>26.0</td>\n",
       "      <td>101.0</td>\n",
       "      <td>41.0</td>\n",
       "      <td>150.0</td>\n",
       "    </tr>\n",
       "    <tr>\n",
       "      <th>1</th>\n",
       "      <td>1</td>\n",
       "      <td>female</td>\n",
       "      <td>64</td>\n",
       "      <td>163.0</td>\n",
       "      <td>60.0</td>\n",
       "      <td>8.0</td>\n",
       "      <td>85.0</td>\n",
       "      <td>39.7</td>\n",
       "      <td>34.0</td>\n",
       "    </tr>\n",
       "    <tr>\n",
       "      <th>2</th>\n",
       "      <td>2</td>\n",
       "      <td>female</td>\n",
       "      <td>51</td>\n",
       "      <td>161.0</td>\n",
       "      <td>64.0</td>\n",
       "      <td>7.0</td>\n",
       "      <td>84.0</td>\n",
       "      <td>39.8</td>\n",
       "      <td>29.0</td>\n",
       "    </tr>\n",
       "  </tbody>\n",
       "</table>\n",
       "</div>"
      ],
      "text/plain": [
       "   id     Sex  Age  Height  Weight  Duration  Heart_Rate  Body_Temp  Calories\n",
       "0   0    male   36   189.0    82.0      26.0       101.0       41.0     150.0\n",
       "1   1  female   64   163.0    60.0       8.0        85.0       39.7      34.0\n",
       "2   2  female   51   161.0    64.0       7.0        84.0       39.8      29.0"
      ]
     },
     "execution_count": 3,
     "metadata": {},
     "output_type": "execute_result"
    }
   ],
   "source": [
    "print(test.shape)\n",
    "print(train.shape)\n",
    "train.head(3)"
   ]
  },
  {
   "cell_type": "code",
   "execution_count": 4,
   "id": "bfbdd79e",
   "metadata": {
    "execution": {
     "iopub.execute_input": "2025-05-12T14:56:25.282703Z",
     "iopub.status.busy": "2025-05-12T14:56:25.282377Z",
     "iopub.status.idle": "2025-05-12T14:56:25.294824Z",
     "shell.execute_reply": "2025-05-12T14:56:25.294032Z"
    },
    "papermill": {
     "duration": 0.018418,
     "end_time": "2025-05-12T14:56:25.296284",
     "exception": false,
     "start_time": "2025-05-12T14:56:25.277866",
     "status": "completed"
    },
    "tags": []
   },
   "outputs": [
    {
     "data": {
      "text/html": [
       "<div>\n",
       "<style scoped>\n",
       "    .dataframe tbody tr th:only-of-type {\n",
       "        vertical-align: middle;\n",
       "    }\n",
       "\n",
       "    .dataframe tbody tr th {\n",
       "        vertical-align: top;\n",
       "    }\n",
       "\n",
       "    .dataframe thead th {\n",
       "        text-align: right;\n",
       "    }\n",
       "</style>\n",
       "<table border=\"1\" class=\"dataframe\">\n",
       "  <thead>\n",
       "    <tr style=\"text-align: right;\">\n",
       "      <th></th>\n",
       "      <th>id</th>\n",
       "      <th>Sex</th>\n",
       "      <th>Age</th>\n",
       "      <th>Height</th>\n",
       "      <th>Weight</th>\n",
       "      <th>Duration</th>\n",
       "      <th>Heart_Rate</th>\n",
       "      <th>Body_Temp</th>\n",
       "    </tr>\n",
       "  </thead>\n",
       "  <tbody>\n",
       "    <tr>\n",
       "      <th>0</th>\n",
       "      <td>750000</td>\n",
       "      <td>male</td>\n",
       "      <td>45</td>\n",
       "      <td>177.0</td>\n",
       "      <td>81.0</td>\n",
       "      <td>7.0</td>\n",
       "      <td>87.0</td>\n",
       "      <td>39.8</td>\n",
       "    </tr>\n",
       "    <tr>\n",
       "      <th>1</th>\n",
       "      <td>750001</td>\n",
       "      <td>male</td>\n",
       "      <td>26</td>\n",
       "      <td>200.0</td>\n",
       "      <td>97.0</td>\n",
       "      <td>20.0</td>\n",
       "      <td>101.0</td>\n",
       "      <td>40.5</td>\n",
       "    </tr>\n",
       "    <tr>\n",
       "      <th>2</th>\n",
       "      <td>750002</td>\n",
       "      <td>female</td>\n",
       "      <td>29</td>\n",
       "      <td>188.0</td>\n",
       "      <td>85.0</td>\n",
       "      <td>16.0</td>\n",
       "      <td>102.0</td>\n",
       "      <td>40.4</td>\n",
       "    </tr>\n",
       "  </tbody>\n",
       "</table>\n",
       "</div>"
      ],
      "text/plain": [
       "       id     Sex  Age  Height  Weight  Duration  Heart_Rate  Body_Temp\n",
       "0  750000    male   45   177.0    81.0       7.0        87.0       39.8\n",
       "1  750001    male   26   200.0    97.0      20.0       101.0       40.5\n",
       "2  750002  female   29   188.0    85.0      16.0       102.0       40.4"
      ]
     },
     "execution_count": 4,
     "metadata": {},
     "output_type": "execute_result"
    }
   ],
   "source": [
    "test.head(3)"
   ]
  },
  {
   "cell_type": "code",
   "execution_count": 5,
   "id": "da427cf5",
   "metadata": {
    "execution": {
     "iopub.execute_input": "2025-05-12T14:56:25.306066Z",
     "iopub.status.busy": "2025-05-12T14:56:25.305705Z",
     "iopub.status.idle": "2025-05-12T14:56:25.735250Z",
     "shell.execute_reply": "2025-05-12T14:56:25.734097Z"
    },
    "papermill": {
     "duration": 0.435389,
     "end_time": "2025-05-12T14:56:25.736692",
     "exception": false,
     "start_time": "2025-05-12T14:56:25.301303",
     "status": "completed"
    },
    "tags": []
   },
   "outputs": [
    {
     "name": "stdout",
     "output_type": "stream",
     "text": [
      "id            0\n",
      "Sex           0\n",
      "Age           0\n",
      "Height        0\n",
      "Weight        0\n",
      "Duration      0\n",
      "Heart_Rate    0\n",
      "Body_Temp     0\n",
      "Calories      0\n",
      "dtype: int64\n",
      "                  id            Age         Height         Weight  \\\n",
      "count  750000.000000  750000.000000  750000.000000  750000.000000   \n",
      "mean   374999.500000      41.420404     174.697685      75.145668   \n",
      "std    216506.495284      15.175049      12.824496      13.982704   \n",
      "min         0.000000      20.000000     126.000000      36.000000   \n",
      "25%    187499.750000      28.000000     164.000000      63.000000   \n",
      "50%    374999.500000      40.000000     174.000000      74.000000   \n",
      "75%    562499.250000      52.000000     185.000000      87.000000   \n",
      "max    749999.000000      79.000000     222.000000     132.000000   \n",
      "\n",
      "            Duration     Heart_Rate      Body_Temp       Calories  \n",
      "count  750000.000000  750000.000000  750000.000000  750000.000000  \n",
      "mean       15.421015      95.483995      40.036253      88.282781  \n",
      "std         8.354095       9.449845       0.779875      62.395349  \n",
      "min         1.000000      67.000000      37.100000       1.000000  \n",
      "25%         8.000000      88.000000      39.600000      34.000000  \n",
      "50%        15.000000      95.000000      40.300000      77.000000  \n",
      "75%        23.000000     103.000000      40.700000     136.000000  \n",
      "max        30.000000     128.000000      41.500000     314.000000  \n",
      "<class 'pandas.core.frame.DataFrame'>\n",
      "RangeIndex: 750000 entries, 0 to 749999\n",
      "Data columns (total 9 columns):\n",
      " #   Column      Non-Null Count   Dtype  \n",
      "---  ------      --------------   -----  \n",
      " 0   id          750000 non-null  int64  \n",
      " 1   Sex         750000 non-null  object \n",
      " 2   Age         750000 non-null  int64  \n",
      " 3   Height      750000 non-null  float64\n",
      " 4   Weight      750000 non-null  float64\n",
      " 5   Duration    750000 non-null  float64\n",
      " 6   Heart_Rate  750000 non-null  float64\n",
      " 7   Body_Temp   750000 non-null  float64\n",
      " 8   Calories    750000 non-null  float64\n",
      "dtypes: float64(6), int64(2), object(1)\n",
      "memory usage: 51.5+ MB\n",
      "None\n"
     ]
    }
   ],
   "source": [
    "print(train.isnull().sum())\n",
    "print(train.describe())\n",
    "print(train.info())"
   ]
  },
  {
   "cell_type": "code",
   "execution_count": 6,
   "id": "eafe95e9",
   "metadata": {
    "execution": {
     "iopub.execute_input": "2025-05-12T14:56:25.746932Z",
     "iopub.status.busy": "2025-05-12T14:56:25.745899Z",
     "iopub.status.idle": "2025-05-12T14:56:25.879863Z",
     "shell.execute_reply": "2025-05-12T14:56:25.878804Z"
    },
    "papermill": {
     "duration": 0.140691,
     "end_time": "2025-05-12T14:56:25.881484",
     "exception": false,
     "start_time": "2025-05-12T14:56:25.740793",
     "status": "completed"
    },
    "tags": []
   },
   "outputs": [
    {
     "name": "stdout",
     "output_type": "stream",
     "text": [
      "id            0\n",
      "Sex           0\n",
      "Age           0\n",
      "Height        0\n",
      "Weight        0\n",
      "Duration      0\n",
      "Heart_Rate    0\n",
      "Body_Temp     0\n",
      "dtype: int64\n",
      "                  id            Age         Height         Weight  \\\n",
      "count  250000.000000  250000.000000  250000.000000  250000.000000   \n",
      "mean   874999.500000      41.452464     174.725624      75.147712   \n",
      "std     72168.927986      15.177769      12.822039      13.979513   \n",
      "min    750000.000000      20.000000     127.000000      39.000000   \n",
      "25%    812499.750000      28.000000     164.000000      63.000000   \n",
      "50%    874999.500000      40.000000     174.000000      74.000000   \n",
      "75%    937499.250000      52.000000     185.000000      87.000000   \n",
      "max    999999.000000      79.000000     219.000000     126.000000   \n",
      "\n",
      "            Duration     Heart_Rate      Body_Temp  \n",
      "count  250000.000000  250000.000000  250000.000000  \n",
      "mean       15.415428      95.479084      40.036093  \n",
      "std         8.349133       9.450161       0.778448  \n",
      "min         1.000000      67.000000      37.100000  \n",
      "25%         8.000000      88.000000      39.600000  \n",
      "50%        15.000000      95.000000      40.300000  \n",
      "75%        23.000000     103.000000      40.600000  \n",
      "max        30.000000     128.000000      41.500000  \n",
      "<class 'pandas.core.frame.DataFrame'>\n",
      "RangeIndex: 250000 entries, 0 to 249999\n",
      "Data columns (total 8 columns):\n",
      " #   Column      Non-Null Count   Dtype  \n",
      "---  ------      --------------   -----  \n",
      " 0   id          250000 non-null  int64  \n",
      " 1   Sex         250000 non-null  object \n",
      " 2   Age         250000 non-null  int64  \n",
      " 3   Height      250000 non-null  float64\n",
      " 4   Weight      250000 non-null  float64\n",
      " 5   Duration    250000 non-null  float64\n",
      " 6   Heart_Rate  250000 non-null  float64\n",
      " 7   Body_Temp   250000 non-null  float64\n",
      "dtypes: float64(5), int64(2), object(1)\n",
      "memory usage: 15.3+ MB\n",
      "None\n"
     ]
    }
   ],
   "source": [
    "print(test.isnull().sum())\n",
    "print(test.describe())\n",
    "print(test.info())"
   ]
  },
  {
   "cell_type": "code",
   "execution_count": 7,
   "id": "120c02a2",
   "metadata": {
    "execution": {
     "iopub.execute_input": "2025-05-12T14:56:25.890744Z",
     "iopub.status.busy": "2025-05-12T14:56:25.890437Z",
     "iopub.status.idle": "2025-05-12T14:56:27.631952Z",
     "shell.execute_reply": "2025-05-12T14:56:27.630906Z"
    },
    "papermill": {
     "duration": 1.748204,
     "end_time": "2025-05-12T14:56:27.633734",
     "exception": false,
     "start_time": "2025-05-12T14:56:25.885530",
     "status": "completed"
    },
    "tags": []
   },
   "outputs": [],
   "source": [
    "from sklearn.preprocessing import LabelEncoder,StandardScaler\n",
    "le=LabelEncoder()\n",
    "sc=StandardScaler()"
   ]
  },
  {
   "cell_type": "code",
   "execution_count": 8,
   "id": "1c759baa",
   "metadata": {
    "execution": {
     "iopub.execute_input": "2025-05-12T14:56:27.643515Z",
     "iopub.status.busy": "2025-05-12T14:56:27.642578Z",
     "iopub.status.idle": "2025-05-12T14:56:27.823550Z",
     "shell.execute_reply": "2025-05-12T14:56:27.822624Z"
    },
    "papermill": {
     "duration": 0.187426,
     "end_time": "2025-05-12T14:56:27.825325",
     "exception": false,
     "start_time": "2025-05-12T14:56:27.637899",
     "status": "completed"
    },
    "tags": []
   },
   "outputs": [],
   "source": [
    "train['Sex']=le.fit_transform(train['Sex'])\n",
    "test['Sex']=le.transform(test['Sex'])"
   ]
  },
  {
   "cell_type": "code",
   "execution_count": 9,
   "id": "b537b22c",
   "metadata": {
    "execution": {
     "iopub.execute_input": "2025-05-12T14:56:27.835729Z",
     "iopub.status.busy": "2025-05-12T14:56:27.835391Z",
     "iopub.status.idle": "2025-05-12T14:56:28.106146Z",
     "shell.execute_reply": "2025-05-12T14:56:28.104869Z"
    },
    "papermill": {
     "duration": 0.277896,
     "end_time": "2025-05-12T14:56:28.107938",
     "exception": false,
     "start_time": "2025-05-12T14:56:27.830042",
     "status": "completed"
    },
    "tags": []
   },
   "outputs": [],
   "source": [
    "features = ['Sex', 'Age', 'Height', 'Weight', 'Duration', 'Heart_Rate', 'Body_Temp']\n",
    "train['Calories_log'] = np.log1p(train['Calories'])\n",
    "X = train[features]\n",
    "y = train['Calories_log']\n",
    "X_test = test[features]\n",
    "X_scaled=sc.fit_transform(train[features])\n",
    "X_test_scaled=sc.transform(test[features])"
   ]
  },
  {
   "cell_type": "code",
   "execution_count": 10,
   "id": "68ea7488",
   "metadata": {
    "execution": {
     "iopub.execute_input": "2025-05-12T14:56:28.117086Z",
     "iopub.status.busy": "2025-05-12T14:56:28.116756Z",
     "iopub.status.idle": "2025-05-12T14:56:28.555138Z",
     "shell.execute_reply": "2025-05-12T14:56:28.553872Z"
    },
    "papermill": {
     "duration": 0.445006,
     "end_time": "2025-05-12T14:56:28.556994",
     "exception": false,
     "start_time": "2025-05-12T14:56:28.111988",
     "status": "completed"
    },
    "tags": []
   },
   "outputs": [],
   "source": [
    "from xgboost import XGBRegressor\n",
    "from sklearn.metrics import mean_squared_log_error"
   ]
  },
  {
   "cell_type": "code",
   "execution_count": 11,
   "id": "88dd0878",
   "metadata": {
    "execution": {
     "iopub.execute_input": "2025-05-12T14:56:28.566403Z",
     "iopub.status.busy": "2025-05-12T14:56:28.566110Z",
     "iopub.status.idle": "2025-05-12T14:56:28.570625Z",
     "shell.execute_reply": "2025-05-12T14:56:28.569793Z"
    },
    "papermill": {
     "duration": 0.011314,
     "end_time": "2025-05-12T14:56:28.572273",
     "exception": false,
     "start_time": "2025-05-12T14:56:28.560959",
     "status": "completed"
    },
    "tags": []
   },
   "outputs": [],
   "source": [
    "xgb_model=XGBRegressor(max_depth=6,n_estimators=1000,learning_rate=0.05,random_state=42)"
   ]
  },
  {
   "cell_type": "code",
   "execution_count": 12,
   "id": "bfb2b580",
   "metadata": {
    "execution": {
     "iopub.execute_input": "2025-05-12T14:56:28.581657Z",
     "iopub.status.busy": "2025-05-12T14:56:28.581383Z",
     "iopub.status.idle": "2025-05-12T14:56:50.652228Z",
     "shell.execute_reply": "2025-05-12T14:56:50.651127Z"
    },
    "papermill": {
     "duration": 22.07763,
     "end_time": "2025-05-12T14:56:50.653823",
     "exception": false,
     "start_time": "2025-05-12T14:56:28.576193",
     "status": "completed"
    },
    "tags": []
   },
   "outputs": [
    {
     "data": {
      "text/html": [
       "<style>#sk-container-id-1 {color: black;background-color: white;}#sk-container-id-1 pre{padding: 0;}#sk-container-id-1 div.sk-toggleable {background-color: white;}#sk-container-id-1 label.sk-toggleable__label {cursor: pointer;display: block;width: 100%;margin-bottom: 0;padding: 0.3em;box-sizing: border-box;text-align: center;}#sk-container-id-1 label.sk-toggleable__label-arrow:before {content: \"▸\";float: left;margin-right: 0.25em;color: #696969;}#sk-container-id-1 label.sk-toggleable__label-arrow:hover:before {color: black;}#sk-container-id-1 div.sk-estimator:hover label.sk-toggleable__label-arrow:before {color: black;}#sk-container-id-1 div.sk-toggleable__content {max-height: 0;max-width: 0;overflow: hidden;text-align: left;background-color: #f0f8ff;}#sk-container-id-1 div.sk-toggleable__content pre {margin: 0.2em;color: black;border-radius: 0.25em;background-color: #f0f8ff;}#sk-container-id-1 input.sk-toggleable__control:checked~div.sk-toggleable__content {max-height: 200px;max-width: 100%;overflow: auto;}#sk-container-id-1 input.sk-toggleable__control:checked~label.sk-toggleable__label-arrow:before {content: \"▾\";}#sk-container-id-1 div.sk-estimator input.sk-toggleable__control:checked~label.sk-toggleable__label {background-color: #d4ebff;}#sk-container-id-1 div.sk-label input.sk-toggleable__control:checked~label.sk-toggleable__label {background-color: #d4ebff;}#sk-container-id-1 input.sk-hidden--visually {border: 0;clip: rect(1px 1px 1px 1px);clip: rect(1px, 1px, 1px, 1px);height: 1px;margin: -1px;overflow: hidden;padding: 0;position: absolute;width: 1px;}#sk-container-id-1 div.sk-estimator {font-family: monospace;background-color: #f0f8ff;border: 1px dotted black;border-radius: 0.25em;box-sizing: border-box;margin-bottom: 0.5em;}#sk-container-id-1 div.sk-estimator:hover {background-color: #d4ebff;}#sk-container-id-1 div.sk-parallel-item::after {content: \"\";width: 100%;border-bottom: 1px solid gray;flex-grow: 1;}#sk-container-id-1 div.sk-label:hover label.sk-toggleable__label {background-color: #d4ebff;}#sk-container-id-1 div.sk-serial::before {content: \"\";position: absolute;border-left: 1px solid gray;box-sizing: border-box;top: 0;bottom: 0;left: 50%;z-index: 0;}#sk-container-id-1 div.sk-serial {display: flex;flex-direction: column;align-items: center;background-color: white;padding-right: 0.2em;padding-left: 0.2em;position: relative;}#sk-container-id-1 div.sk-item {position: relative;z-index: 1;}#sk-container-id-1 div.sk-parallel {display: flex;align-items: stretch;justify-content: center;background-color: white;position: relative;}#sk-container-id-1 div.sk-item::before, #sk-container-id-1 div.sk-parallel-item::before {content: \"\";position: absolute;border-left: 1px solid gray;box-sizing: border-box;top: 0;bottom: 0;left: 50%;z-index: -1;}#sk-container-id-1 div.sk-parallel-item {display: flex;flex-direction: column;z-index: 1;position: relative;background-color: white;}#sk-container-id-1 div.sk-parallel-item:first-child::after {align-self: flex-end;width: 50%;}#sk-container-id-1 div.sk-parallel-item:last-child::after {align-self: flex-start;width: 50%;}#sk-container-id-1 div.sk-parallel-item:only-child::after {width: 0;}#sk-container-id-1 div.sk-dashed-wrapped {border: 1px dashed gray;margin: 0 0.4em 0.5em 0.4em;box-sizing: border-box;padding-bottom: 0.4em;background-color: white;}#sk-container-id-1 div.sk-label label {font-family: monospace;font-weight: bold;display: inline-block;line-height: 1.2em;}#sk-container-id-1 div.sk-label-container {text-align: center;}#sk-container-id-1 div.sk-container {/* jupyter's `normalize.less` sets `[hidden] { display: none; }` but bootstrap.min.css set `[hidden] { display: none !important; }` so we also need the `!important` here to be able to override the default hidden behavior on the sphinx rendered scikit-learn.org. See: https://github.com/scikit-learn/scikit-learn/issues/21755 */display: inline-block !important;position: relative;}#sk-container-id-1 div.sk-text-repr-fallback {display: none;}</style><div id=\"sk-container-id-1\" class=\"sk-top-container\"><div class=\"sk-text-repr-fallback\"><pre>XGBRegressor(base_score=None, booster=None, callbacks=None,\n",
       "             colsample_bylevel=None, colsample_bynode=None,\n",
       "             colsample_bytree=None, device=None, early_stopping_rounds=None,\n",
       "             enable_categorical=False, eval_metric=None, feature_types=None,\n",
       "             gamma=None, grow_policy=None, importance_type=None,\n",
       "             interaction_constraints=None, learning_rate=0.05, max_bin=None,\n",
       "             max_cat_threshold=None, max_cat_to_onehot=None,\n",
       "             max_delta_step=None, max_depth=6, max_leaves=None,\n",
       "             min_child_weight=None, missing=nan, monotone_constraints=None,\n",
       "             multi_strategy=None, n_estimators=1000, n_jobs=None,\n",
       "             num_parallel_tree=None, random_state=42, ...)</pre><b>In a Jupyter environment, please rerun this cell to show the HTML representation or trust the notebook. <br />On GitHub, the HTML representation is unable to render, please try loading this page with nbviewer.org.</b></div><div class=\"sk-container\" hidden><div class=\"sk-item\"><div class=\"sk-estimator sk-toggleable\"><input class=\"sk-toggleable__control sk-hidden--visually\" id=\"sk-estimator-id-1\" type=\"checkbox\" checked><label for=\"sk-estimator-id-1\" class=\"sk-toggleable__label sk-toggleable__label-arrow\">XGBRegressor</label><div class=\"sk-toggleable__content\"><pre>XGBRegressor(base_score=None, booster=None, callbacks=None,\n",
       "             colsample_bylevel=None, colsample_bynode=None,\n",
       "             colsample_bytree=None, device=None, early_stopping_rounds=None,\n",
       "             enable_categorical=False, eval_metric=None, feature_types=None,\n",
       "             gamma=None, grow_policy=None, importance_type=None,\n",
       "             interaction_constraints=None, learning_rate=0.05, max_bin=None,\n",
       "             max_cat_threshold=None, max_cat_to_onehot=None,\n",
       "             max_delta_step=None, max_depth=6, max_leaves=None,\n",
       "             min_child_weight=None, missing=nan, monotone_constraints=None,\n",
       "             multi_strategy=None, n_estimators=1000, n_jobs=None,\n",
       "             num_parallel_tree=None, random_state=42, ...)</pre></div></div></div></div></div>"
      ],
      "text/plain": [
       "XGBRegressor(base_score=None, booster=None, callbacks=None,\n",
       "             colsample_bylevel=None, colsample_bynode=None,\n",
       "             colsample_bytree=None, device=None, early_stopping_rounds=None,\n",
       "             enable_categorical=False, eval_metric=None, feature_types=None,\n",
       "             gamma=None, grow_policy=None, importance_type=None,\n",
       "             interaction_constraints=None, learning_rate=0.05, max_bin=None,\n",
       "             max_cat_threshold=None, max_cat_to_onehot=None,\n",
       "             max_delta_step=None, max_depth=6, max_leaves=None,\n",
       "             min_child_weight=None, missing=nan, monotone_constraints=None,\n",
       "             multi_strategy=None, n_estimators=1000, n_jobs=None,\n",
       "             num_parallel_tree=None, random_state=42, ...)"
      ]
     },
     "execution_count": 12,
     "metadata": {},
     "output_type": "execute_result"
    }
   ],
   "source": [
    "xgb_model.fit(X_scaled,y)"
   ]
  },
  {
   "cell_type": "code",
   "execution_count": 13,
   "id": "df764037",
   "metadata": {
    "execution": {
     "iopub.execute_input": "2025-05-12T14:56:50.663948Z",
     "iopub.status.busy": "2025-05-12T14:56:50.663651Z",
     "iopub.status.idle": "2025-05-12T14:56:53.153054Z",
     "shell.execute_reply": "2025-05-12T14:56:53.152085Z"
    },
    "papermill": {
     "duration": 2.496177,
     "end_time": "2025-05-12T14:56:53.154757",
     "exception": false,
     "start_time": "2025-05-12T14:56:50.658580",
     "status": "completed"
    },
    "tags": []
   },
   "outputs": [],
   "source": [
    "y_pred_log = xgb_model.predict(X_test_scaled)\n",
    "y_pred = np.expm1(y_pred_log)"
   ]
  },
  {
   "cell_type": "code",
   "execution_count": 14,
   "id": "38d53f27",
   "metadata": {
    "execution": {
     "iopub.execute_input": "2025-05-12T14:56:53.164564Z",
     "iopub.status.busy": "2025-05-12T14:56:53.164256Z",
     "iopub.status.idle": "2025-05-12T14:56:53.569950Z",
     "shell.execute_reply": "2025-05-12T14:56:53.569064Z"
    },
    "papermill": {
     "duration": 0.412415,
     "end_time": "2025-05-12T14:56:53.571626",
     "exception": false,
     "start_time": "2025-05-12T14:56:53.159211",
     "status": "completed"
    },
    "tags": []
   },
   "outputs": [],
   "source": [
    "submission=pd.DataFrame({'id':test['id'] ,'Calories':y_pred})\n",
    "submission.to_csv('/kaggle/working/submission.csv',index=False)"
   ]
  },
  {
   "cell_type": "code",
   "execution_count": 15,
   "id": "0ae09c79",
   "metadata": {
    "execution": {
     "iopub.execute_input": "2025-05-12T14:56:53.581159Z",
     "iopub.status.busy": "2025-05-12T14:56:53.580840Z",
     "iopub.status.idle": "2025-05-12T14:57:01.046030Z",
     "shell.execute_reply": "2025-05-12T14:57:01.045095Z"
    },
    "papermill": {
     "duration": 7.471785,
     "end_time": "2025-05-12T14:57:01.047649",
     "exception": false,
     "start_time": "2025-05-12T14:56:53.575864",
     "status": "completed"
    },
    "tags": []
   },
   "outputs": [
    {
     "name": "stdout",
     "output_type": "stream",
     "text": [
      "RMSLE: 0.05577\n"
     ]
    }
   ],
   "source": [
    "y_pred_train_log = xgb_model.predict(X_scaled)\n",
    "y_pred_train = np.expm1(y_pred_train_log)\n",
    "rmsle = np.sqrt(mean_squared_log_error(np.expm1(y), y_pred_train))\n",
    "print(f'RMSLE: {rmsle:.5f}')"
   ]
  },
  {
   "cell_type": "code",
   "execution_count": null,
   "id": "61bf73b4",
   "metadata": {
    "papermill": {
     "duration": 0.003838,
     "end_time": "2025-05-12T14:57:01.056122",
     "exception": false,
     "start_time": "2025-05-12T14:57:01.052284",
     "status": "completed"
    },
    "tags": []
   },
   "outputs": [],
   "source": []
  }
 ],
 "metadata": {
  "kaggle": {
   "accelerator": "none",
   "dataSources": [
    {
     "databundleVersionId": 11893428,
     "sourceId": 91716,
     "sourceType": "competition"
    }
   ],
   "dockerImageVersionId": 31012,
   "isGpuEnabled": false,
   "isInternetEnabled": false,
   "language": "python",
   "sourceType": "notebook"
  },
  "kernelspec": {
   "display_name": "Python 3",
   "language": "python",
   "name": "python3"
  },
  "language_info": {
   "codemirror_mode": {
    "name": "ipython",
    "version": 3
   },
   "file_extension": ".py",
   "mimetype": "text/x-python",
   "name": "python",
   "nbconvert_exporter": "python",
   "pygments_lexer": "ipython3",
   "version": "3.11.11"
  },
  "papermill": {
   "default_parameters": {},
   "duration": 44.687778,
   "end_time": "2025-05-12T14:57:01.780562",
   "environment_variables": {},
   "exception": null,
   "input_path": "__notebook__.ipynb",
   "output_path": "__notebook__.ipynb",
   "parameters": {},
   "start_time": "2025-05-12T14:56:17.092784",
   "version": "2.6.0"
  }
 },
 "nbformat": 4,
 "nbformat_minor": 5
}
